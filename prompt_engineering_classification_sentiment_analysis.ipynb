{
  "cells": [
    {
      "cell_type": "markdown",
      "metadata": {
        "id": "zJLtsQobpd0R"
      },
      "source": [
        "<center>\n",
        "<h1><b>Prompt Engineering </b>\n",
        "<h1><b>Classification tasks : Sentiment Analysis </b>\n",
        "</center>"
      ]
    },
    {
      "cell_type": "markdown",
      "metadata": {
        "id": "YFZj9kr8Pahl"
      },
      "source": [
        "## Imports"
      ]
    },
    {
      "cell_type": "code",
      "execution_count": 48,
      "metadata": {
        "id": "Q3gwxSqQPahl"
      },
      "outputs": [],
      "source": [
        "import openai\n",
        "import json\n",
        "import tiktoken\n",
        "import session_info\n",
        "import pandas as pd\n",
        "import numpy as np\n",
        "from datasets import load_dataset\n",
        "from collections import Counter\n",
        "from tqdm import tqdm\n",
        "from sklearn.model_selection import train_test_split\n",
        "from sklearn.metrics import f1_score\n",
        "from langchain_groq import ChatGroq\n",
        "from langchain_openai import ChatOpenAI\n",
        "from langchain_community.llms import Ollama"
      ]
    },
    {
      "cell_type": "code",
      "execution_count": 200,
      "metadata": {
        "colab": {
          "base_uri": "https://localhost:8080/",
          "height": 34
        },
        "id": "6mmXtfmrS7Ml",
        "outputId": "e0b895ae-bd32-4c03-9ba7-3a48c12112ec"
      },
      "outputs": [
        {
          "data": {
            "text/html": [
              "<details>\n",
              "<summary>Click to view session information</summary>\n",
              "<pre>\n",
              "-----\n",
              "datasets            2.19.0\n",
              "langchain_community 0.0.33\n",
              "langchain_core      0.1.44\n",
              "langchain_groq      NA\n",
              "langchain_openai    NA\n",
              "matplotlib          3.8.4\n",
              "numpy               1.26.4\n",
              "ollama              NA\n",
              "openai              1.23.1\n",
              "pandas              2.2.2\n",
              "session_info        1.0.0\n",
              "sklearn             1.4.2\n",
              "tiktoken            NA\n",
              "tqdm                4.66.2\n",
              "-----\n",
              "</pre>\n",
              "<details>\n",
              "<summary>Click to view modules imported as dependencies</summary>\n",
              "<pre>\n",
              "PIL                 10.3.0\n",
              "aiohttp             3.9.5\n",
              "aiosignal           1.3.1\n",
              "annotated_types     0.6.0\n",
              "anyio               NA\n",
              "appnope             0.1.4\n",
              "asttokens           NA\n",
              "async_timeout       4.0.3\n",
              "attr                23.2.0\n",
              "attrs               23.2.0\n",
              "brotli              1.1.0\n",
              "certifi             2024.02.02\n",
              "cffi                1.16.0\n",
              "charset_normalizer  3.3.2\n",
              "click               8.1.7\n",
              "comm                0.2.2\n",
              "cycler              0.12.1\n",
              "cython_runtime      NA\n",
              "dateutil            2.9.0.post0\n",
              "debugpy             1.8.1\n",
              "decorator           5.1.1\n",
              "dill                0.3.8\n",
              "distro              1.9.0\n",
              "exceptiongroup      1.2.1\n",
              "executing           2.0.1\n",
              "filelock            3.13.4\n",
              "frozenlist          1.4.1\n",
              "fsspec              2024.3.1\n",
              "google              NA\n",
              "groq                0.5.0\n",
              "h11                 0.14.0\n",
              "httpcore            1.0.5\n",
              "httpx               0.27.0\n",
              "huggingface_hub     0.22.2\n",
              "idna                3.7\n",
              "ipykernel           6.29.4\n",
              "jedi                0.19.1\n",
              "joblib              1.4.0\n",
              "jsonpatch           1.33\n",
              "jsonpointer         2.4\n",
              "kiwisolver          1.4.5\n",
              "langchain           0.1.16\n",
              "langsmith           0.1.49\n",
              "matplotlib_inline   0.1.7\n",
              "mpl_toolkits        NA\n",
              "multidict           6.0.5\n",
              "multiprocess        0.70.16\n",
              "orjson              3.10.1\n",
              "outcome             1.3.0.post0\n",
              "packaging           23.2\n",
              "parso               0.8.4\n",
              "platformdirs        4.2.0\n",
              "prompt_toolkit      3.0.43\n",
              "psutil              5.9.8\n",
              "pure_eval           0.2.2\n",
              "pyarrow             16.0.0\n",
              "pyarrow_hotfix      NA\n",
              "pydantic            2.7.0\n",
              "pydantic_core       2.18.1\n",
              "pydev_ipython       NA\n",
              "pydevconsole        NA\n",
              "pydevd              2.9.5\n",
              "pydevd_file_utils   NA\n",
              "pydevd_plugins      NA\n",
              "pydevd_tracing      NA\n",
              "pygments            2.17.2\n",
              "pyparsing           3.1.2\n",
              "pytz                2024.1\n",
              "regex               2.5.140\n",
              "requests            2.31.0\n",
              "rich                NA\n",
              "scipy               1.13.0\n",
              "six                 1.16.0\n",
              "sniffio             1.3.1\n",
              "socks               1.7.1\n",
              "sortedcontainers    2.4.0\n",
              "stack_data          0.6.3\n",
              "tenacity            NA\n",
              "threadpoolctl       3.4.0\n",
              "tiktoken_ext        NA\n",
              "tornado             6.4\n",
              "traitlets           5.14.3\n",
              "trio                0.25.0\n",
              "typing_extensions   NA\n",
              "urllib3             2.2.1\n",
              "vscode              NA\n",
              "wcwidth             0.2.13\n",
              "xxhash              NA\n",
              "yaml                6.0.1\n",
              "yarl                1.9.4\n",
              "zmq                 26.0.2\n",
              "zoneinfo            NA\n",
              "</pre>\n",
              "</details> <!-- seems like this ends pre, so might as well be explicit -->\n",
              "<pre>\n",
              "-----\n",
              "IPython             8.23.0\n",
              "jupyter_client      8.6.1\n",
              "jupyter_core        5.7.2\n",
              "-----\n",
              "Python 3.10.10 (main, Mar 21 2023, 13:41:05) [Clang 14.0.6 ]\n",
              "macOS-13.0.1-arm64-arm-64bit\n",
              "-----\n",
              "Session information updated at 2024-04-25 22:04\n",
              "</pre>\n",
              "</details>"
            ],
            "text/plain": [
              "<IPython.core.display.HTML object>"
            ]
          },
          "execution_count": 200,
          "metadata": {},
          "output_type": "execute_result"
        }
      ],
      "source": [
        "session_info.show()"
      ]
    },
    {
      "cell_type": "markdown",
      "metadata": {
        "id": "SN0wIDUjPahn"
      },
      "source": [
        "## API Keys "
      ]
    },
    {
      "cell_type": "markdown",
      "metadata": {},
      "source": [
        "## Large Language Models"
      ]
    },
    {
      "cell_type": "markdown",
      "metadata": {
        "id": "HQpkd5elTMhd"
      },
      "source": [
        "## How to count Tokens"
      ]
    },
    {
      "cell_type": "code",
      "execution_count": 201,
      "metadata": {},
      "outputs": [
        {
          "name": "stdout",
          "output_type": "stream",
          "text": [
            "[720, 10407, 630, 24248, 3904, 6492, 315, 279, 5891, 1068, 10666, 304, 279, 1217, 1984, 627, 791, 1121, 1288, 387, 6928, 477, 8389, 13, 3234, 539, 9541, 701, 2077, 198]\n"
          ]
        }
      ],
      "source": [
        "encoding = tiktoken.encoding_for_model(\"gpt-4-turbo\")\n",
        "system_message =\"\"\" \n",
        "Peform Sentiment analysis of the revview presented in the user message.\n",
        "The result should be positive or negative. Do not justify your response\n",
        "\"\"\"\n",
        "print(encoding.encode(system_message))"
      ]
    },
    {
      "cell_type": "markdown",
      "metadata": {},
      "source": [
        "## Test OpenAI"
      ]
    },
    {
      "cell_type": "code",
      "execution_count": 197,
      "metadata": {},
      "outputs": [
        {
          "name": "stdout",
          "output_type": "stream",
          "text": [
            "positive\n"
          ]
        }
      ],
      "source": [
        "OPEN_AI_KEY = \"sk-proj-bkkDQOUCtyf7Ctj2afRXT3BlbkFJtxzf8IbMmA6uqAd1qt9j\"\n",
        "gpt4_llm = ChatOpenAI(model=\"gpt-4-turbo\", temperature=0, api_key=OPEN_AI_KEY)\n",
        "system_message =\"\"\" \n",
        "Classify the sentiment of the review presented in the input as 'positive' or 'negative'\n",
        "The review will be delimited by triple backticks ``` in the input.\n",
        "Answer only 'positive' or 'negative' \n",
        "Do not explain your answer.\n",
        "\"\"\"\n",
        "user_message_template =\"```{review}```\"\n",
        "user_message =\"I think that your services are very fine\"\n",
        "zero_shot_prompt = [\n",
        "    {\"role\":\"system\",\"content\":system_message},\n",
        "    {\"role\":\"user\", \"content\":user_message_template.format(review=user_message)},\n",
        "]\n",
        "response = gpt4_llm.invoke(zero_shot_prompt)\n",
        "print(response.content)"
      ]
    },
    {
      "cell_type": "markdown",
      "metadata": {},
      "source": [
        "## Test Groq Mixtral"
      ]
    },
    {
      "cell_type": "code",
      "execution_count": 198,
      "metadata": {},
      "outputs": [
        {
          "name": "stdout",
          "output_type": "stream",
          "text": [
            "positive\n"
          ]
        }
      ],
      "source": [
        "GROQ_API_KEY = \"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\"\n",
        "groq_llm = ChatGroq(model_name=\"mixtral-8x7b-32768\", temperature=0,  api_key=GROQ_API_KEY)\n",
        "system_message =\"\"\" \n",
        "Classify the sentiment of the review presented in the input as 'positive' or 'negative'\n",
        "The review will be delimited by triple backticks ``` in the input.\n",
        "Answer only 'positive' or 'negative' \n",
        "Do not explain your answer.\n",
        "\"\"\"\n",
        "user_message_template =\"```{review}```\"\n",
        "user_message =\"I think that your services are very fine\"\n",
        "zero_shot_prompt = [\n",
        "    {\"role\":\"system\",\"content\":system_message},\n",
        "    {\"role\":\"user\", \"content\":user_message_template.format(review=user_message)},\n",
        "]\n",
        "response = groq_llm.invoke(zero_shot_prompt)\n",
        "print(response.content.replace(\"</s>\",\"\"))"
      ]
    },
    {
      "cell_type": "markdown",
      "metadata": {},
      "source": [
        "## Test Ollama (Local Machine)"
      ]
    },
    {
      "cell_type": "code",
      "execution_count": 203,
      "metadata": {},
      "outputs": [
        {
          "name": "stdout",
          "output_type": "stream",
          "text": [
            "positive<|eot_id|><|start_header_id|>assistant<|end_header_id|>\n",
            "\n",
            "positive<|eot_id|><|start_header_id|>assistant<|end_header_id|>\n",
            "\n",
            "positive<|eot_id|><|start_header_id|>assistant<|end_header_id|>\n",
            "\n",
            "positive<|eot_id|><|start_header_id|>assistant<|end_header_id|>\n",
            "\n",
            "positive<|eot_id|><|start_header_id|>assistant<|end_header_id|>\n",
            "\n",
            "positive<|eot_id|><|start_header_id|>assistant<|end_header_id|>\n",
            "\n",
            "positive<|eot_id|><|start_header_id|>assistant<|end_header_id|>\n",
            "\n",
            "positive<|eot_id|><|start_header_id|>assistant<|end_header_id|>\n",
            "\n",
            "positive<|eot_id|><|start_header_id|>assistant<|end_header_id|>\n",
            "\n",
            "positive<|eot_id|><|start_header_id|>assistant<|end_header_id|>\n",
            "\n",
            "positive<|eot_id|><|start_header_id|>assistant<|end_header_id|>\n",
            "\n",
            "positive<|eot_id|><|start_header_id|>assistant<|end_header_id|>\n",
            "\n",
            "positive<|eot_id|><|start_header_id|>assistant<|end_header_id|>\n",
            "\n",
            "positive<|eot_id|><|start_header_id|>assistant<|end_header_id|>\n",
            "\n",
            "positive<|eot_id|><|start_header_id|>assistant<|end_header_id|>\n",
            "\n",
            "positive<|eot_id|><|start_header_id|>assistant<|end_header_id|>\n",
            "\n",
            "positive<|eot_id|><|start_header_id|>assistant<|end_header_id|>\n",
            "\n",
            "positive<|eot_id|><|start_header_id|>assistant<|end_header_id|>\n",
            "\n",
            "positive<|eot_id|><|start_header_id|>assistant<|end_header_id|>\n",
            "\n",
            "positive<|eot_id|><|start_header_id|>assistant<|end_header_id|>\n",
            "\n",
            "positive<|eot_id|><|start_header_id|>assistant<|end_header_id|>\n",
            "\n",
            "positive<|eot_id|><|start_header_id|>assistant<|end_header_id|>\n",
            "\n",
            "positive<|eot_id|><|start_header_id|>assistant<|end_header_id|>\n",
            "\n",
            "positive<|eot_id|><|start_header_id|>assistant<|end_header_id|>\n",
            "\n",
            "positive<|eot_id|><|start_header_id|>assistant<|end_header_id|>\n",
            "\n",
            "positive<|eot_id|><|start_header_id|>assistant<|end_header_id|>\n",
            "\n",
            "positive<|eot_id|><|start_header_id|>assistant<|end_header_id|>\n",
            "\n",
            "positive<|eot_id|><|start_header_id|>assistant<|end_header_id|>\n",
            "\n",
            "positive<|eot_id|><|start_header_id|>assistant<|end_header_id|>\n",
            "\n",
            "positive<|eot_id|><|start_header_id|>assistant<|end_header_id|>\n",
            "\n",
            "positive<|eot_id|><|start_header_id|>assistant<|end_header_id|>\n",
            "\n",
            "positive<|eot_id|><|start_header_id|>assistant<|end_header_id|>\n",
            "\n",
            "positive<|eot_id|><|start_header_id|>assistant<|end_header_id|>\n",
            "\n",
            "positive<|eot_id|><|start_header_id|>assistant<|end_header_id|>\n",
            "\n",
            "positive<|eot_id|><|start_header_id|>assistant<|end_header_id|>\n",
            "\n",
            "positive<|eot_id|><|start_header_id|>assistant<|end_header_id|>\n",
            "\n",
            "positive<|eot_id|><|start_header_id|>assistant<|end_header_id|>\n",
            "\n",
            "positive<|eot_id|><|start_header_id|>assistant<|end_header_id|>\n",
            "\n",
            "positive<|eot_id|><|start_header_id|>assistant<|end_header_id|>\n",
            "\n",
            "positive<|eot_id|><|start_header_id|>assistant<|end_header_id|>\n",
            "\n",
            "positive<|eot_id|><|start_header_id|>assistant<|end_header_id|>\n",
            "\n",
            "positive<|eot_id|><|start_header_id|>assistant<|end_header_id|>\n",
            "\n",
            "positive<|eot_id|><|start_header_id|><|start_header_id|><|start_header_id|><|start_header_id|><|start_header_id|><|start_header_id|><|start_header_id|><|start_header_id|><|start_header_id|><|start_header_id|><|start_header_id|><|start_header_id|><|start_header_id|><|start_header_id|><|start_header_id|><|start_header_id|><|start_header_id|><|start_header_id|><|start_header_id|><|start_header_id|><|start_header_id|><|start_header_id|><|start_header_id|><|start_header_id|><|start_header_id|><|start_header_id|><|start_header_id|><|start_header_id|><|start_header_id|><|start_header_id|><|start_header_id|>\n"
          ]
        }
      ],
      "source": [
        "llama_llm  = Ollama(model=\"llama3\", temperature=0)\n",
        "system_message =\"\"\" \n",
        "Classify the sentiment of the review presented in the input as 'positive' or 'negative'\n",
        "The review will be delimited by triple backticks ``` in the input.\n",
        "Answer only 'positive' or 'negative'.\n",
        "Do not explain your answer.\n",
        "\"\"\"\n",
        "user_message_template =\"```{review}```\"\n",
        "user_message1 =\"I think that your services are very fine\"\n",
        "assistant_response1 =\"positive\"\n",
        "user_message2 =\"I do not like the food```\"\"\"\n",
        "assistant_response2 =\"negative\"\n",
        "user_message =\"The look is bad\"\n",
        "few_shot_prompt = [\n",
        "    {\"role\":\"system\",\"content\":system_message},\n",
        "    {\"role\":\"user\", \"content\":user_message_template.format(review=user_message1)},\n",
        "    {\"role\":\"assistant\", \"content\":assistant_response1},\n",
        "    {\"role\":\"user\", \"content\":user_message_template.format(review=user_message2)},\n",
        "    {\"role\":\"assistant\", \"content\":assistant_response2},\n",
        "    {\"role\":\"user\", \"content\":user_message_template.format(review=user_message)},\n",
        "]\n",
        "response = llama_llm.invoke(few_shot_prompt)\n",
        "print(response)"
      ]
    },
    {
      "cell_type": "markdown",
      "metadata": {
        "id": "WhctrBwFPahq"
      },
      "source": [
        "### Step 2: Assemble Data"
      ]
    },
    {
      "cell_type": "code",
      "execution_count": 66,
      "metadata": {
        "id": "SA5Cyqgk5kgB"
      },
      "outputs": [],
      "source": [
        "corpus = load_dataset(\"imdb\")"
      ]
    },
    {
      "cell_type": "code",
      "execution_count": 67,
      "metadata": {
        "colab": {
          "base_uri": "https://localhost:8080/"
        },
        "id": "3DTqeY187AGZ",
        "outputId": "c30920c2-38e5-4c68-fce3-0f6ddeb24253"
      },
      "outputs": [
        {
          "data": {
            "text/plain": [
              "DatasetDict({\n",
              "    train: Dataset({\n",
              "        features: ['text', 'label'],\n",
              "        num_rows: 25000\n",
              "    })\n",
              "    test: Dataset({\n",
              "        features: ['text', 'label'],\n",
              "        num_rows: 25000\n",
              "    })\n",
              "    unsupervised: Dataset({\n",
              "        features: ['text', 'label'],\n",
              "        num_rows: 50000\n",
              "    })\n",
              "})"
            ]
          },
          "execution_count": 67,
          "metadata": {},
          "output_type": "execute_result"
        }
      ],
      "source": [
        "corpus"
      ]
    },
    {
      "cell_type": "code",
      "execution_count": 69,
      "metadata": {
        "id": "p3pzMAKGJTGz"
      },
      "outputs": [],
      "source": [
        "train_df = corpus['train'].to_pandas()"
      ]
    },
    {
      "cell_type": "code",
      "execution_count": 70,
      "metadata": {
        "colab": {
          "base_uri": "https://localhost:8080/"
        },
        "id": "a-NSh5_p7V5E",
        "outputId": "323bdc7f-3bea-463d-cd80-e56fdc8f0a37"
      },
      "outputs": [
        {
          "name": "stdout",
          "output_type": "stream",
          "text": [
            "<class 'pandas.core.frame.DataFrame'>\n",
            "RangeIndex: 25000 entries, 0 to 24999\n",
            "Data columns (total 2 columns):\n",
            " #   Column  Non-Null Count  Dtype \n",
            "---  ------  --------------  ----- \n",
            " 0   text    25000 non-null  object\n",
            " 1   label   25000 non-null  int64 \n",
            "dtypes: int64(1), object(1)\n",
            "memory usage: 390.8+ KB\n"
          ]
        }
      ],
      "source": [
        "train_df.info()"
      ]
    },
    {
      "cell_type": "code",
      "execution_count": 71,
      "metadata": {
        "colab": {
          "base_uri": "https://localhost:8080/"
        },
        "id": "Gd7GgpUt9AE4",
        "outputId": "ba3594ba-29ca-4ff5-f8b3-b7ddffcd643e"
      },
      "outputs": [
        {
          "data": {
            "text/plain": [
              "label\n",
              "0    12500\n",
              "1    12500\n",
              "Name: count, dtype: int64"
            ]
          },
          "execution_count": 71,
          "metadata": {},
          "output_type": "execute_result"
        }
      ],
      "source": [
        "train_df.label.value_counts()"
      ]
    },
    {
      "cell_type": "markdown",
      "metadata": {
        "id": "pnwTt-Jt3pp5"
      },
      "source": [
        "Note how the dataset is evenly balanced with equal number of reviews assembled for positive (label 1) and negative sentiment (label 0)."
      ]
    },
    {
      "cell_type": "markdown",
      "metadata": {
        "id": "rVotF13S31rd"
      },
      "source": [
        "In order to facilitate comparison of the ground truth labels with model predictions, let us add the corresponding text label as an additional column to the data."
      ]
    },
    {
      "cell_type": "code",
      "execution_count": 72,
      "metadata": {
        "id": "LyuWt8fcNObJ"
      },
      "outputs": [],
      "source": [
        "train_df['sentiment'] = np.where(train_df.label == 1, \"positive\", \"negative\")"
      ]
    },
    {
      "cell_type": "code",
      "execution_count": 74,
      "metadata": {
        "colab": {
          "base_uri": "https://localhost:8080/",
          "height": 206
        },
        "id": "UJmr1iJ5_tNm",
        "outputId": "f56c7036-4905-4ae0-d686-4dc9ac43f75d"
      },
      "outputs": [
        {
          "data": {
            "text/html": [
              "<div>\n",
              "<style scoped>\n",
              "    .dataframe tbody tr th:only-of-type {\n",
              "        vertical-align: middle;\n",
              "    }\n",
              "\n",
              "    .dataframe tbody tr th {\n",
              "        vertical-align: top;\n",
              "    }\n",
              "\n",
              "    .dataframe thead th {\n",
              "        text-align: right;\n",
              "    }\n",
              "</style>\n",
              "<table border=\"1\" class=\"dataframe\">\n",
              "  <thead>\n",
              "    <tr style=\"text-align: right;\">\n",
              "      <th></th>\n",
              "      <th>text</th>\n",
              "      <th>label</th>\n",
              "      <th>sentiment</th>\n",
              "    </tr>\n",
              "  </thead>\n",
              "  <tbody>\n",
              "    <tr>\n",
              "      <th>15474</th>\n",
              "      <td>It is noteworthy that mine is only the third r...</td>\n",
              "      <td>1</td>\n",
              "      <td>positive</td>\n",
              "    </tr>\n",
              "    <tr>\n",
              "      <th>5630</th>\n",
              "      <td>Shazbot, is this embarrassing. In fact, here's...</td>\n",
              "      <td>0</td>\n",
              "      <td>negative</td>\n",
              "    </tr>\n",
              "    <tr>\n",
              "      <th>8958</th>\n",
              "      <td>With no fault to the actors (they all put on g...</td>\n",
              "      <td>0</td>\n",
              "      <td>negative</td>\n",
              "    </tr>\n",
              "    <tr>\n",
              "      <th>22695</th>\n",
              "      <td>This great movie has failed to register a high...</td>\n",
              "      <td>1</td>\n",
              "      <td>positive</td>\n",
              "    </tr>\n",
              "    <tr>\n",
              "      <th>18570</th>\n",
              "      <td>OK, I overrated it just a bit to offset at lea...</td>\n",
              "      <td>1</td>\n",
              "      <td>positive</td>\n",
              "    </tr>\n",
              "    <tr>\n",
              "      <th>17112</th>\n",
              "      <td>This is definitely one of Jet's best efforts. ...</td>\n",
              "      <td>1</td>\n",
              "      <td>positive</td>\n",
              "    </tr>\n",
              "  </tbody>\n",
              "</table>\n",
              "</div>"
            ],
            "text/plain": [
              "                                                    text  label sentiment\n",
              "15474  It is noteworthy that mine is only the third r...      1  positive\n",
              "5630   Shazbot, is this embarrassing. In fact, here's...      0  negative\n",
              "8958   With no fault to the actors (they all put on g...      0  negative\n",
              "22695  This great movie has failed to register a high...      1  positive\n",
              "18570  OK, I overrated it just a bit to offset at lea...      1  positive\n",
              "17112  This is definitely one of Jet's best efforts. ...      1  positive"
            ]
          },
          "execution_count": 74,
          "metadata": {},
          "output_type": "execute_result"
        }
      ],
      "source": [
        "train_df.sample(6)"
      ]
    },
    {
      "cell_type": "markdown",
      "metadata": {
        "id": "stAY7kaL4CFo"
      },
      "source": [
        "We now have the dataset in the correct format to be parsed by LLM."
      ]
    },
    {
      "cell_type": "code",
      "execution_count": 75,
      "metadata": {
        "colab": {
          "base_uri": "https://localhost:8080/"
        },
        "id": "O5AbhvRV9o-e",
        "outputId": "4721deb2-91be-4c0d-8240-bba5ee1f4cfe"
      },
      "outputs": [
        {
          "data": {
            "text/plain": [
              "sentiment\n",
              "negative    12500\n",
              "positive    12500\n",
              "Name: count, dtype: int64"
            ]
          },
          "execution_count": 75,
          "metadata": {},
          "output_type": "execute_result"
        }
      ],
      "source": [
        "train_df.sentiment.value_counts()"
      ]
    },
    {
      "cell_type": "code",
      "execution_count": 155,
      "metadata": {},
      "outputs": [
        {
          "data": {
            "text/plain": [
              "<Axes: >"
            ]
          },
          "execution_count": 155,
          "metadata": {},
          "output_type": "execute_result"
        },
        {
          "data": {
            "image/png": "[encoded data removed]",
            "text/plain": [
              "<Figure size 640x480 with 1 Axes>"
            ]
          },
          "metadata": {},
          "output_type": "display_data"
        }
      ],
      "source": [
        "train_df.sentiment.hist()"
      ]
    },
    {
      "cell_type": "code",
      "execution_count": 76,
      "metadata": {
        "id": "dkXtXbc9N5rC"
      },
      "outputs": [],
      "source": [
        "examples_df, gold_examples_df = train_test_split(\n",
        "    train_df, test_size=0.2, random_state=42 \n",
        ")"
      ]
    },
    {
      "cell_type": "code",
      "execution_count": 77,
      "metadata": {
        "colab": {
          "base_uri": "https://localhost:8080/"
        },
        "id": "bGSj2dfZOMW-",
        "outputId": "482f9e3c-1e8e-414d-f754-9f8c19f49bae"
      },
      "outputs": [
        {
          "data": {
            "text/plain": [
              "((20000, 3), (5000, 3))"
            ]
          },
          "execution_count": 77,
          "metadata": {},
          "output_type": "execute_result"
        }
      ],
      "source": [
        "(examples_df.shape, gold_examples_df.shape)"
      ]
    },
    {
      "cell_type": "markdown",
      "metadata": {
        "id": "2ExVGFPl4tdx"
      },
      "source": [
        "To select gold examples for this session, we sample randomly from the test data using a `random_state=42`. This ensures that the examples from multiple runs of the sampling are the same (i.e., they are randomly selected but do not change between different runs of the notebook). Note that we are doing this only to keep execution times low for illustration. In practise, large number of gold examples facilitate robust estimates of model accuracy."
      ]
    },
    {
      "cell_type": "code",
      "execution_count": 114,
      "metadata": {
        "id": "nDIZm2RdMsDt"
      },
      "outputs": [],
      "source": [
        "columns= ['text', 'sentiment']\n",
        "gold_examples = ( gold_examples_df.loc[:, columns].sample(20, random_state=42).to_json(orient='records'))"
      ]
    },
    {
      "cell_type": "code",
      "execution_count": 80,
      "metadata": {
        "colab": {
          "base_uri": "https://localhost:8080/"
        },
        "id": "r8J58KMMM95s",
        "outputId": "17b8e2eb-ecea-42d8-b851-36e19f50dcec"
      },
      "outputs": [
        {
          "data": {
            "text/plain": [
              "{'text': 'Like I said at the top, four stars just aren\\'t enough. It\\'s one of the best films I\\'ve ever seen in my almost 17 years of life. For the people that don\\'t really like it or understand it, you must not have a real appreciation for art or you might have a short attention span.<br /><br />Even if I haven\\'t seen all his films yet, I\\'d have to say that this is Spielberg at his peak. It\\'s pretty sad to see that movies as great as \"The Color Purple\" don\\'t come along too often \\'cause I think all of us are in desperate need of first-class motion picture entertainment in these hard times.<br /><br />Movies like this are more than just movies; they\\'re pieces of art that need to be appreciated more.<br /><br />The idea that it was nominated for 11 Oscars (even Best Picture of the Year) and didn\\'t get one trophy is a sign of how blind and stupid Hollywood can be sometimes. Spielberg wasn\\'t even nominated for Best Director! It should have swept the Oscars that year.<br /><br />The film clearly shows you how unfair life is for some people.<br /><br />If only movies were still this good....',\n",
              " 'sentiment': 'positive'}"
            ]
          },
          "execution_count": 80,
          "metadata": {},
          "output_type": "execute_result"
        }
      ],
      "source": [
        "json.loads(gold_examples)[0]"
      ]
    },
    {
      "cell_type": "markdown",
      "metadata": {
        "id": "ZPsU-h8FPaht"
      },
      "source": [
        "### Step 3: Derive Prompt"
      ]
    },
    {
      "cell_type": "markdown",
      "metadata": {
        "id": "X3uS8NWfNqBG"
      },
      "source": [
        "#### Create prompts"
      ]
    },
    {
      "cell_type": "code",
      "execution_count": 81,
      "metadata": {
        "id": "NfDUKbCgPahu"
      },
      "outputs": [],
      "source": [
        "user_message_template = \"\"\"```{movie_review}```\"\"\""
      ]
    },
    {
      "cell_type": "markdown",
      "metadata": {
        "id": "w8RoXc0qJW0l"
      },
      "source": [
        "**Prompt 1: Zero-shot**"
      ]
    },
    {
      "cell_type": "code",
      "execution_count": 126,
      "metadata": {
        "id": "J79_IaxHJdY2"
      },
      "outputs": [],
      "source": [
        "zero_shot_system_message = \"\"\"\n",
        "Classify the sentiment of movie reviews presented in the input as 'positive' or 'negative'\n",
        "Movie reviews will be delimited by triple backticks in the input.\n",
        "Answer only 'positive' or 'negative' \n",
        "Do not explain your answer.\n",
        "\"\"\""
      ]
    },
    {
      "cell_type": "code",
      "execution_count": 83,
      "metadata": {
        "id": "t8cjNjiJJpzc"
      },
      "outputs": [],
      "source": [
        "zero_shot_prompt = [{'role':'system', 'content': zero_shot_system_message}]"
      ]
    },
    {
      "cell_type": "markdown",
      "metadata": {
        "id": "46AWalvrLTxs"
      },
      "source": [
        "**Prompt 2: Few-shot**"
      ]
    },
    {
      "cell_type": "markdown",
      "metadata": {
        "id": "rdsQv1Pz7mJE"
      },
      "source": [
        "For the few-shot prompt, there is no change in the system message compared with the zero-shot prompt. However, we augment this system message with few shot examples.  "
      ]
    },
    {
      "cell_type": "code",
      "execution_count": 127,
      "metadata": {
        "id": "2nrW4jzGLdce"
      },
      "outputs": [],
      "source": [
        "few_shot_system_message = \"\"\"\n",
        "Classify the sentiment of movie reviews presented in the input as 'positive' or 'negative'\n",
        "Movie reviews will be delimited by triple backticks in the input.\n",
        "Answer only 'positive' or 'negative'\n",
        "Do not explain your answer.\n",
        "\"\"\""
      ]
    },
    {
      "cell_type": "markdown",
      "metadata": {
        "id": "RZcz4TtHQPa2"
      },
      "source": [
        "To assemble few-shot examples, we will need to sample the required number of reviews from the training data. One approach would be to  first subset positive and negative reviews and then select samples from these subsets like so (note how we assemble 8 few-shot examples in the code below):"
      ]
    },
    {
      "cell_type": "code",
      "execution_count": 85,
      "metadata": {
        "id": "VJjyRP5IQAx4"
      },
      "outputs": [],
      "source": [
        "positive_reviews = (examples_df.sentiment == 'positive')\n",
        "negative_reviews = (examples_df.sentiment == 'negative')"
      ]
    },
    {
      "cell_type": "code",
      "execution_count": 86,
      "metadata": {
        "colab": {
          "base_uri": "https://localhost:8080/"
        },
        "id": "Z6prB2UsQH0b",
        "outputId": "70b1c863-a61e-4eda-81fa-cb58969efc98"
      },
      "outputs": [
        {
          "data": {
            "text/plain": [
              "((20000,), (20000,))"
            ]
          },
          "execution_count": 86,
          "metadata": {},
          "output_type": "execute_result"
        }
      ],
      "source": [
        "(positive_reviews.shape, negative_reviews.shape)"
      ]
    },
    {
      "cell_type": "code",
      "execution_count": 87,
      "metadata": {
        "id": "cT3eeB0vPahs"
      },
      "outputs": [],
      "source": [
        "columns = ['text', 'sentiment']\n",
        "positive_examples = examples_df.loc[positive_reviews, columns].sample(4)\n",
        "negative_examples = examples_df.loc[negative_reviews, columns].sample(4)"
      ]
    },
    {
      "cell_type": "code",
      "execution_count": 88,
      "metadata": {
        "colab": {
          "base_uri": "https://localhost:8080/",
          "height": 175
        },
        "id": "dko5YsMaPahs",
        "outputId": "54e6f0eb-9aec-4be5-91ad-7397c1b020b6"
      },
      "outputs": [
        {
          "data": {
            "text/html": [
              "<div>\n",
              "<style scoped>\n",
              "    .dataframe tbody tr th:only-of-type {\n",
              "        vertical-align: middle;\n",
              "    }\n",
              "\n",
              "    .dataframe tbody tr th {\n",
              "        vertical-align: top;\n",
              "    }\n",
              "\n",
              "    .dataframe thead th {\n",
              "        text-align: right;\n",
              "    }\n",
              "</style>\n",
              "<table border=\"1\" class=\"dataframe\">\n",
              "  <thead>\n",
              "    <tr style=\"text-align: right;\">\n",
              "      <th></th>\n",
              "      <th>text</th>\n",
              "      <th>sentiment</th>\n",
              "    </tr>\n",
              "  </thead>\n",
              "  <tbody>\n",
              "    <tr>\n",
              "      <th>19171</th>\n",
              "      <td>One of my favorite shows in the 80's. After th...</td>\n",
              "      <td>positive</td>\n",
              "    </tr>\n",
              "    <tr>\n",
              "      <th>22462</th>\n",
              "      <td>&lt;br /&gt;&lt;br /&gt;Presenting Lily Mars is one of a g...</td>\n",
              "      <td>positive</td>\n",
              "    </tr>\n",
              "    <tr>\n",
              "      <th>18428</th>\n",
              "      <td>Every movie critic and metal head hated this m...</td>\n",
              "      <td>positive</td>\n",
              "    </tr>\n",
              "    <tr>\n",
              "      <th>16281</th>\n",
              "      <td>When will people learn that some movies are ma...</td>\n",
              "      <td>positive</td>\n",
              "    </tr>\n",
              "  </tbody>\n",
              "</table>\n",
              "</div>"
            ],
            "text/plain": [
              "                                                    text sentiment\n",
              "19171  One of my favorite shows in the 80's. After th...  positive\n",
              "22462  <br /><br />Presenting Lily Mars is one of a g...  positive\n",
              "18428  Every movie critic and metal head hated this m...  positive\n",
              "16281  When will people learn that some movies are ma...  positive"
            ]
          },
          "execution_count": 88,
          "metadata": {},
          "output_type": "execute_result"
        }
      ],
      "source": [
        "positive_examples"
      ]
    },
    {
      "cell_type": "code",
      "execution_count": 89,
      "metadata": {
        "colab": {
          "base_uri": "https://localhost:8080/",
          "height": 175
        },
        "id": "0QBH9UEdPaht",
        "outputId": "0c8a896c-557c-47e8-d606-4b8792ab07cd"
      },
      "outputs": [
        {
          "data": {
            "text/html": [
              "<div>\n",
              "<style scoped>\n",
              "    .dataframe tbody tr th:only-of-type {\n",
              "        vertical-align: middle;\n",
              "    }\n",
              "\n",
              "    .dataframe tbody tr th {\n",
              "        vertical-align: top;\n",
              "    }\n",
              "\n",
              "    .dataframe thead th {\n",
              "        text-align: right;\n",
              "    }\n",
              "</style>\n",
              "<table border=\"1\" class=\"dataframe\">\n",
              "  <thead>\n",
              "    <tr style=\"text-align: right;\">\n",
              "      <th></th>\n",
              "      <th>text</th>\n",
              "      <th>sentiment</th>\n",
              "    </tr>\n",
              "  </thead>\n",
              "  <tbody>\n",
              "    <tr>\n",
              "      <th>11058</th>\n",
              "      <td>TYSON &lt;br /&gt;&lt;br /&gt;Aspect ratio: 1.33:1&lt;br /&gt;&lt;b...</td>\n",
              "      <td>negative</td>\n",
              "    </tr>\n",
              "    <tr>\n",
              "      <th>4734</th>\n",
              "      <td>This was a crappy movie, with a whole lotta no...</td>\n",
              "      <td>negative</td>\n",
              "    </tr>\n",
              "    <tr>\n",
              "      <th>4631</th>\n",
              "      <td>This show is possibly the biggest, ugliest, mo...</td>\n",
              "      <td>negative</td>\n",
              "    </tr>\n",
              "    <tr>\n",
              "      <th>7971</th>\n",
              "      <td>Please! Do not waste any money on this movie. ...</td>\n",
              "      <td>negative</td>\n",
              "    </tr>\n",
              "  </tbody>\n",
              "</table>\n",
              "</div>"
            ],
            "text/plain": [
              "                                                    text sentiment\n",
              "11058  TYSON <br /><br />Aspect ratio: 1.33:1<br /><b...  negative\n",
              "4734   This was a crappy movie, with a whole lotta no...  negative\n",
              "4631   This show is possibly the biggest, ugliest, mo...  negative\n",
              "7971   Please! Do not waste any money on this movie. ...  negative"
            ]
          },
          "execution_count": 89,
          "metadata": {},
          "output_type": "execute_result"
        }
      ],
      "source": [
        "negative_examples"
      ]
    },
    {
      "cell_type": "markdown",
      "metadata": {
        "id": "d3ExNtgPRDhJ"
      },
      "source": [
        "However, merely selecting random samples from the polarity subsets is not enough because the examples included in a prompt are prone to a set of known biases such as:\n",
        " - Majority label bias (frequent answers in predictions)\n",
        " - Recency bias (examples near the end of the prompt)\n"
      ]
    },
    {
      "cell_type": "markdown",
      "metadata": {
        "id": "bEA_Ab2FRrYB"
      },
      "source": [
        "To avoid these biases, it is important to have a balanced set of examples that are arranged in random order. Let us create a Python function that generates bias-free examples (our function implements the workflow presented below):"
      ]
    },
    {
      "cell_type": "markdown",
      "metadata": {
        "id": "v3g6Snmrl-FI"
      },
      "source": [
        "![image.png](data:image/png;base64,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)"
      ]
    },
    {
      "cell_type": "code",
      "execution_count": 90,
      "metadata": {
        "id": "Qb0mLtE9R7ZA"
      },
      "outputs": [],
      "source": [
        "def create_examples(dataset, n=4):\n",
        "    positive_reviews = (dataset.sentiment == 'positive')\n",
        "    negative_reviews = (dataset.sentiment == 'negative')\n",
        "    columns_to_select = ['text', 'sentiment']\n",
        "    positive_examples = dataset.loc[positive_reviews, columns_to_select].sample(n)\n",
        "    negative_examples = dataset.loc[negative_reviews, columns_to_select].sample(n)\n",
        "    examples = pd.concat([positive_examples, negative_examples])\n",
        "    # sampling without replacement is equivalent to random shuffling\n",
        "    randomized_examples = examples.sample(2*n, replace=False)\n",
        "    return randomized_examples.to_json(orient='records')"
      ]
    },
    {
      "cell_type": "code",
      "execution_count": 91,
      "metadata": {
        "id": "jb1VpSgZPaht"
      },
      "outputs": [],
      "source": [
        "examples = create_examples(examples_df, 2)"
      ]
    },
    {
      "cell_type": "code",
      "execution_count": 92,
      "metadata": {
        "colab": {
          "base_uri": "https://localhost:8080/"
        },
        "id": "dJInVW2PSucc",
        "outputId": "748a0834-557b-4ed4-f9a2-d7874dd321fa"
      },
      "outputs": [
        {
          "data": {
            "text/plain": [
              "[{'text': \"What can you say about this movie? It was not terrible, but it was not good! Two days earlier I had watched Lillies and that was one of the best Gay films I have ever seen. So this was not the best time to watch a mediocre Gay flick.<br /><br />The story was silly and the acting was OK. It was not bad enough to turn off, but it had some bad moments and some terrible stereotyping. It was not very well cast either.<br /><br />Would I recommend this movie? No you would be wasting your time and money. I don't understand why movies like these are made and who is funding them. Spend your time Watching Noah's Arc on Logo instead. I think this is where this movie was trying to go but never got there.\",\n",
              "  'sentiment': 'negative'},\n",
              " {'text': \"I saw this movie at a college film festival back in the 70's - I have been waiting FOREVER for this movie to come out on video (finally it's out). It was made in Brazil, so I assumed that was why it hadn't made it to video yet. I have been checking video stores for the past 15 years waiting for this outstanding movie to come out! It is one of my all-time favorites - but be warned, it is weird, like Werner Herzog weird - its weirdness stems from its super-realism.<br /><br />The movie is based on a true incident back a few centuries ago, in pre-colonial times, when Europeans were first encountering the tribes in the Amazon. A white man is mistaken by a savage tribe of cannibals as their enemy, so they intend to kill him. Before they dispatch him, though, they make him part of their tribe (their custom). The entire movie is like watching a National Geographic documentary as he becomes an accepted member of their tribe. That's it. Cosmic plotline? No. Intense insight into the variety of human life? Definitely.<br /><br />Oh yeah... be warned... this film has definite nudity - this is not some Hollywood schlock flick about noble savages... this film tells it like it was (re-read above: National Geographic, super-realism)<br /><br />\",\n",
              "  'sentiment': 'positive'},\n",
              " {'text': 'Seeing \"Moonstruck\" after so many years is a reminder of how sweet and sensationally funny this film was when it first appeared. Who knew that Cher could act? Who had ever heard of Olympia Dukakis? Nicholas Cage was the beginning of his career, and Vincent Gardenia and Danny Aiello were not known for their comedic talents, nor was Norman Jewison the director.<br /><br />The only really flat note in this splendid work is \"When the Moon Hits Your Eye Like a Big Pizza Pie, That\\'s Amore,\" a song that is sung too many times in the movie (once is already too many) and that went on to have a long afterlife in popular music. <br /><br />Cher is -- forgive me -- sensational as Loretta Castorini, a widow who wants to be married and does not have to be in love with the groom. Aielo (Johny Cammareri) obliges by proposing, offering her his pinkie ring as a substitute for an engagement ring, then rushes off to Sicily to be with his dying mother. He charges Loretta with seeing to that his estranged brother, Ronny, attends the wedding. Loretta confronts Ronny and quickly falls in love with him. Meanwhile, her father (Vincent Gardenia) is cheating on her mother (Olympia Dukakis), which Loretta accidentally discovers when Ronny invites her to the Metropolitan Opera.<br /><br />Everything works out in the end, as it inevitably does in films of this genre. In the meantime, all the actors acquit themselves admirably and the audience enjoys itself. In its way, \"Moonstruck\" is how Hollywood used to be at its best: rollicking entertainment with no social significance whatsoever. If they\\'d only lost \"That\\'s Amore\" along the way, it would have been perfect.',\n",
              "  'sentiment': 'positive'},\n",
              " {'text': 'Yet ANOTHER movie about a group of less-than-intelligent individuals on a road trip who wander off their original travel route for either a short-cut or, in this case, to visit a run-down side show attraction. The results, as expected, are not at all good, as this particular side show is home to a bunch of lunatic, in-bred residents who were escaped prison inmates from years before. The father, who is apparently a professionally photographer, just HAS to stop and take pictures of the place, only to find that it still inhabited. The various members of the family wander off to view the various attractions, only to be scared away. Thinking they made it safely on their way, the van tire explodes (surprise!), leaving them to seek refuge and accommodations in the small town, which we find out is inhabited solely by the freaks (surprise!).<br /><br />This film plays out as expected, with the family being stalked and killed by the freaks. There is some fighting back on the families part, but these are probably among the worst scenes in the film, as they are badly executed. There is nothing remotely original here, unless you count the totally inappropriate soundtrack that is played during particular scenes that completely ruins the atmosphere and mood of the film. The acting is about as bad as I have seen in quite some time by everyone involved (it is pretty bad when your cast is out-acted by the cast of \"Camp Blood). The special effects are lousy and the ending made me want to punch my television.<br /><br />Still, though, despite all the negatives, I somewhat enjoyed this film. It definitely has a \"so bad it\\'s good\" vibe to it. I made it through the entire movie and was even pleasantly entertained once I got past the ridiculously clichéd plot, terrible acting, and cheesy special effects. Though the ending left me feeling cheated and angry, particularly because the film is not that great to begin with and the ending makes the entire film pointless.<br /><br />Bottom line, I can list countless films that if you have seen them, you have seen this. The difference is most of those film are better. Though not a complete waste, this film is pretty bad and not remotely scary.<br /><br />My Grade: D',\n",
              "  'sentiment': 'negative'}]"
            ]
          },
          "execution_count": 92,
          "metadata": {},
          "output_type": "execute_result"
        }
      ],
      "source": [
        "json.loads(examples)"
      ]
    },
    {
      "cell_type": "markdown",
      "metadata": {
        "id": "PEnNkOzJSwTk"
      },
      "source": [
        "With the examples in place, we can now assemble a few-shot prompt. Since we will be using the few-shot prompt several times during evaluation, let us write a function to create a few-shot prompt (the logic of this function is depicted below)."
      ]
    },
    {
      "cell_type": "code",
      "execution_count": 128,
      "metadata": {
        "id": "mFK2WQOgS8ey"
      },
      "outputs": [],
      "source": [
        "def create_prompt(system_message, examples, user_message_template):\n",
        "    few_shot_prompt = [{'role':'system', 'content': system_message}]\n",
        "    for example in json.loads(examples):\n",
        "        example_review = example['text']\n",
        "        example_sentiment = example['sentiment']\n",
        "        few_shot_prompt.append(\n",
        "            {\n",
        "                'role': 'user',\n",
        "                'content': user_message_template.format(\n",
        "                    movie_review=example_review\n",
        "                )\n",
        "            }\n",
        "        )\n",
        "        few_shot_prompt.append(\n",
        "            {'role': 'assistant', 'content': f\"{example_sentiment}\"}\n",
        "        )\n",
        "    return few_shot_prompt"
      ]
    },
    {
      "cell_type": "code",
      "execution_count": 129,
      "metadata": {
        "id": "QoO1lCFtTBUV"
      },
      "outputs": [],
      "source": [
        "few_shot_prompt = create_prompt(\n",
        "    few_shot_system_message,\n",
        "    examples,\n",
        "    user_message_template\n",
        ")"
      ]
    },
    {
      "cell_type": "code",
      "execution_count": 130,
      "metadata": {
        "colab": {
          "base_uri": "https://localhost:8080/"
        },
        "id": "sy91eq9FTNeo",
        "outputId": "dfd5377c-597c-40a6-bcc4-10f69cd72245"
      },
      "outputs": [
        {
          "data": {
            "text/plain": [
              "[{'role': 'system',\n",
              "  'content': \"\\nClassify the sentiment of movie reviews presented in the input as 'positive' or 'negative'\\nMovie reviews will be delimited by triple backticks in the input.\\nAnswer only 'positive' or 'negative'\\nDo not explain your answer.\\n\"},\n",
              " {'role': 'user',\n",
              "  'content': \"```What can you say about this movie? It was not terrible, but it was not good! Two days earlier I had watched Lillies and that was one of the best Gay films I have ever seen. So this was not the best time to watch a mediocre Gay flick.<br /><br />The story was silly and the acting was OK. It was not bad enough to turn off, but it had some bad moments and some terrible stereotyping. It was not very well cast either.<br /><br />Would I recommend this movie? No you would be wasting your time and money. I don't understand why movies like these are made and who is funding them. Spend your time Watching Noah's Arc on Logo instead. I think this is where this movie was trying to go but never got there.```\"},\n",
              " {'role': 'assistant', 'content': 'negative'},\n",
              " {'role': 'user',\n",
              "  'content': \"```I saw this movie at a college film festival back in the 70's - I have been waiting FOREVER for this movie to come out on video (finally it's out). It was made in Brazil, so I assumed that was why it hadn't made it to video yet. I have been checking video stores for the past 15 years waiting for this outstanding movie to come out! It is one of my all-time favorites - but be warned, it is weird, like Werner Herzog weird - its weirdness stems from its super-realism.<br /><br />The movie is based on a true incident back a few centuries ago, in pre-colonial times, when Europeans were first encountering the tribes in the Amazon. A white man is mistaken by a savage tribe of cannibals as their enemy, so they intend to kill him. Before they dispatch him, though, they make him part of their tribe (their custom). The entire movie is like watching a National Geographic documentary as he becomes an accepted member of their tribe. That's it. Cosmic plotline? No. Intense insight into the variety of human life? Definitely.<br /><br />Oh yeah... be warned... this film has definite nudity - this is not some Hollywood schlock flick about noble savages... this film tells it like it was (re-read above: National Geographic, super-realism)<br /><br />```\"},\n",
              " {'role': 'assistant', 'content': 'positive'},\n",
              " {'role': 'user',\n",
              "  'content': '```Seeing \"Moonstruck\" after so many years is a reminder of how sweet and sensationally funny this film was when it first appeared. Who knew that Cher could act? Who had ever heard of Olympia Dukakis? Nicholas Cage was the beginning of his career, and Vincent Gardenia and Danny Aiello were not known for their comedic talents, nor was Norman Jewison the director.<br /><br />The only really flat note in this splendid work is \"When the Moon Hits Your Eye Like a Big Pizza Pie, That\\'s Amore,\" a song that is sung too many times in the movie (once is already too many) and that went on to have a long afterlife in popular music. <br /><br />Cher is -- forgive me -- sensational as Loretta Castorini, a widow who wants to be married and does not have to be in love with the groom. Aielo (Johny Cammareri) obliges by proposing, offering her his pinkie ring as a substitute for an engagement ring, then rushes off to Sicily to be with his dying mother. He charges Loretta with seeing to that his estranged brother, Ronny, attends the wedding. Loretta confronts Ronny and quickly falls in love with him. Meanwhile, her father (Vincent Gardenia) is cheating on her mother (Olympia Dukakis), which Loretta accidentally discovers when Ronny invites her to the Metropolitan Opera.<br /><br />Everything works out in the end, as it inevitably does in films of this genre. In the meantime, all the actors acquit themselves admirably and the audience enjoys itself. In its way, \"Moonstruck\" is how Hollywood used to be at its best: rollicking entertainment with no social significance whatsoever. If they\\'d only lost \"That\\'s Amore\" along the way, it would have been perfect.```'},\n",
              " {'role': 'assistant', 'content': 'positive'},\n",
              " {'role': 'user',\n",
              "  'content': '```Yet ANOTHER movie about a group of less-than-intelligent individuals on a road trip who wander off their original travel route for either a short-cut or, in this case, to visit a run-down side show attraction. The results, as expected, are not at all good, as this particular side show is home to a bunch of lunatic, in-bred residents who were escaped prison inmates from years before. The father, who is apparently a professionally photographer, just HAS to stop and take pictures of the place, only to find that it still inhabited. The various members of the family wander off to view the various attractions, only to be scared away. Thinking they made it safely on their way, the van tire explodes (surprise!), leaving them to seek refuge and accommodations in the small town, which we find out is inhabited solely by the freaks (surprise!).<br /><br />This film plays out as expected, with the family being stalked and killed by the freaks. There is some fighting back on the families part, but these are probably among the worst scenes in the film, as they are badly executed. There is nothing remotely original here, unless you count the totally inappropriate soundtrack that is played during particular scenes that completely ruins the atmosphere and mood of the film. The acting is about as bad as I have seen in quite some time by everyone involved (it is pretty bad when your cast is out-acted by the cast of \"Camp Blood). The special effects are lousy and the ending made me want to punch my television.<br /><br />Still, though, despite all the negatives, I somewhat enjoyed this film. It definitely has a \"so bad it\\'s good\" vibe to it. I made it through the entire movie and was even pleasantly entertained once I got past the ridiculously clichéd plot, terrible acting, and cheesy special effects. Though the ending left me feeling cheated and angry, particularly because the film is not that great to begin with and the ending makes the entire film pointless.<br /><br />Bottom line, I can list countless films that if you have seen them, you have seen this. The difference is most of those film are better. Though not a complete waste, this film is pretty bad and not remotely scary.<br /><br />My Grade: D```'},\n",
              " {'role': 'assistant', 'content': 'negative'}]"
            ]
          },
          "execution_count": 130,
          "metadata": {},
          "output_type": "execute_result"
        }
      ],
      "source": [
        "few_shot_prompt"
      ]
    },
    {
      "cell_type": "markdown",
      "metadata": {
        "id": "agDW1s7eNy-L"
      },
      "source": [
        "**Prompt 3: Chain-of-Thought**"
      ]
    },
    {
      "cell_type": "markdown",
      "metadata": {
        "id": "KKSPE0fT52EE"
      },
      "source": [
        "For the CoT prompt, we add detailed step-by-step instructions to the few shot system message instructing the model to carefully ponder before assigning sentiment. Apart from this addition, there are no further changes from the few-shot prompt."
      ]
    },
    {
      "cell_type": "code",
      "execution_count": 131,
      "metadata": {
        "id": "MqhNfIrrPaht"
      },
      "outputs": [],
      "source": [
        "cot_system_message = \"\"\"\n",
        "Classify the sentiment of movie reviews presented in the input as 'positive' or 'negative'\n",
        "Movie reviews will be delimited by triple backticks ``` in the input.\n",
        "Answer only 'positive' or 'negative' \n",
        "Do not explain your answer.\n",
        "\n",
        "Instructions:\n",
        "1. Carefully read the text of the review and think through the options for sentiment provided\n",
        "2. Consider the overall sentiment of the review and estimate the probability of the review being positive\n",
        "\n",
        "To reiterate, your answer should strictly only contain the label: positive or negative\n",
        "\"\"\""
      ]
    },
    {
      "cell_type": "code",
      "execution_count": 132,
      "metadata": {
        "id": "bUMhbkjaTjmH"
      },
      "outputs": [],
      "source": [
        "cot_few_shot_prompt = create_prompt(cot_system_message, examples, user_message_template)"
      ]
    },
    {
      "cell_type": "code",
      "execution_count": 133,
      "metadata": {
        "colab": {
          "base_uri": "https://localhost:8080/"
        },
        "id": "-KroTz4iTscw",
        "outputId": "02fb628c-9c9e-4c83-ab15-e00831605438"
      },
      "outputs": [
        {
          "data": {
            "text/plain": [
              "[{'role': 'system',\n",
              "  'content': \"\\nClassify the sentiment of movie reviews presented in the input as 'positive' or 'negative'\\nMovie reviews will be delimited by triple backticks in the input.\\nAnswer only 'positive' or 'negative' \\nDo not explain your answer.\\n\\nInstructions:\\n1. Carefully read the text of the review and think through the options for sentiment provided\\n2. Consider the overall sentiment of the review and estimate the probability of the review being positive\\n\\nTo reiterate, your answer should strictly only contain the label: positive or negative\\n\"},\n",
              " {'role': 'user',\n",
              "  'content': \"```What can you say about this movie? It was not terrible, but it was not good! Two days earlier I had watched Lillies and that was one of the best Gay films I have ever seen. So this was not the best time to watch a mediocre Gay flick.<br /><br />The story was silly and the acting was OK. It was not bad enough to turn off, but it had some bad moments and some terrible stereotyping. It was not very well cast either.<br /><br />Would I recommend this movie? No you would be wasting your time and money. I don't understand why movies like these are made and who is funding them. Spend your time Watching Noah's Arc on Logo instead. I think this is where this movie was trying to go but never got there.```\"},\n",
              " {'role': 'assistant', 'content': 'negative'},\n",
              " {'role': 'user',\n",
              "  'content': \"```I saw this movie at a college film festival back in the 70's - I have been waiting FOREVER for this movie to come out on video (finally it's out). It was made in Brazil, so I assumed that was why it hadn't made it to video yet. I have been checking video stores for the past 15 years waiting for this outstanding movie to come out! It is one of my all-time favorites - but be warned, it is weird, like Werner Herzog weird - its weirdness stems from its super-realism.<br /><br />The movie is based on a true incident back a few centuries ago, in pre-colonial times, when Europeans were first encountering the tribes in the Amazon. A white man is mistaken by a savage tribe of cannibals as their enemy, so they intend to kill him. Before they dispatch him, though, they make him part of their tribe (their custom). The entire movie is like watching a National Geographic documentary as he becomes an accepted member of their tribe. That's it. Cosmic plotline? No. Intense insight into the variety of human life? Definitely.<br /><br />Oh yeah... be warned... this film has definite nudity - this is not some Hollywood schlock flick about noble savages... this film tells it like it was (re-read above: National Geographic, super-realism)<br /><br />```\"},\n",
              " {'role': 'assistant', 'content': 'positive'},\n",
              " {'role': 'user',\n",
              "  'content': '```Seeing \"Moonstruck\" after so many years is a reminder of how sweet and sensationally funny this film was when it first appeared. Who knew that Cher could act? Who had ever heard of Olympia Dukakis? Nicholas Cage was the beginning of his career, and Vincent Gardenia and Danny Aiello were not known for their comedic talents, nor was Norman Jewison the director.<br /><br />The only really flat note in this splendid work is \"When the Moon Hits Your Eye Like a Big Pizza Pie, That\\'s Amore,\" a song that is sung too many times in the movie (once is already too many) and that went on to have a long afterlife in popular music. <br /><br />Cher is -- forgive me -- sensational as Loretta Castorini, a widow who wants to be married and does not have to be in love with the groom. Aielo (Johny Cammareri) obliges by proposing, offering her his pinkie ring as a substitute for an engagement ring, then rushes off to Sicily to be with his dying mother. He charges Loretta with seeing to that his estranged brother, Ronny, attends the wedding. Loretta confronts Ronny and quickly falls in love with him. Meanwhile, her father (Vincent Gardenia) is cheating on her mother (Olympia Dukakis), which Loretta accidentally discovers when Ronny invites her to the Metropolitan Opera.<br /><br />Everything works out in the end, as it inevitably does in films of this genre. In the meantime, all the actors acquit themselves admirably and the audience enjoys itself. In its way, \"Moonstruck\" is how Hollywood used to be at its best: rollicking entertainment with no social significance whatsoever. If they\\'d only lost \"That\\'s Amore\" along the way, it would have been perfect.```'},\n",
              " {'role': 'assistant', 'content': 'positive'},\n",
              " {'role': 'user',\n",
              "  'content': '```Yet ANOTHER movie about a group of less-than-intelligent individuals on a road trip who wander off their original travel route for either a short-cut or, in this case, to visit a run-down side show attraction. The results, as expected, are not at all good, as this particular side show is home to a bunch of lunatic, in-bred residents who were escaped prison inmates from years before. The father, who is apparently a professionally photographer, just HAS to stop and take pictures of the place, only to find that it still inhabited. The various members of the family wander off to view the various attractions, only to be scared away. Thinking they made it safely on their way, the van tire explodes (surprise!), leaving them to seek refuge and accommodations in the small town, which we find out is inhabited solely by the freaks (surprise!).<br /><br />This film plays out as expected, with the family being stalked and killed by the freaks. There is some fighting back on the families part, but these are probably among the worst scenes in the film, as they are badly executed. There is nothing remotely original here, unless you count the totally inappropriate soundtrack that is played during particular scenes that completely ruins the atmosphere and mood of the film. The acting is about as bad as I have seen in quite some time by everyone involved (it is pretty bad when your cast is out-acted by the cast of \"Camp Blood). The special effects are lousy and the ending made me want to punch my television.<br /><br />Still, though, despite all the negatives, I somewhat enjoyed this film. It definitely has a \"so bad it\\'s good\" vibe to it. I made it through the entire movie and was even pleasantly entertained once I got past the ridiculously clichéd plot, terrible acting, and cheesy special effects. Though the ending left me feeling cheated and angry, particularly because the film is not that great to begin with and the ending makes the entire film pointless.<br /><br />Bottom line, I can list countless films that if you have seen them, you have seen this. The difference is most of those film are better. Though not a complete waste, this film is pretty bad and not remotely scary.<br /><br />My Grade: D```'},\n",
              " {'role': 'assistant', 'content': 'negative'}]"
            ]
          },
          "execution_count": 133,
          "metadata": {},
          "output_type": "execute_result"
        }
      ],
      "source": [
        "cot_few_shot_prompt"
      ]
    },
    {
      "cell_type": "markdown",
      "metadata": {
        "id": "usookJPxTkEd"
      },
      "source": [
        "Note that the examples remain the same while the system message changes."
      ]
    },
    {
      "cell_type": "markdown",
      "metadata": {
        "id": "mcI8oyIcPfPW"
      },
      "source": [
        "#### Evaluate prompts"
      ]
    },
    {
      "cell_type": "markdown",
      "metadata": {
        "id": "2BWfjbiFUCSp"
      },
      "source": [
        "Now we have three sets of prompts that we need to evaluate using gold labels. Since the few-shot prompt and the CoT prompt depend on the sample of examples that was drawn to make up the prompt, we expect some variability in evaluation. Hence, we evaluate each prompt multiple times to get a sense of the average and the variation around the average.\n",
        "\n",
        "To reiterate, a choice on the prompt should account for variability due to the choice of the random sample. To aid repeated evaluation, we assemble an evaluation function (overall logic depicted in the figure below)."
      ]
    },
    {
      "cell_type": "code",
      "execution_count": 150,
      "metadata": {
        "id": "tnwtFBZQoSad"
      },
      "outputs": [],
      "source": [
        "def evaluate_prompt(prompt, gold_examples, user_message_template, model):\n",
        "    model_predictions, ground_truths = [], []\n",
        "\n",
        "    for example in json.loads(gold_examples):\n",
        "        gold_input = example['text']\n",
        "        user_input = [\n",
        "            {\n",
        "                'role':'user',\n",
        "                'content': user_message_template.format(movie_review=gold_input)\n",
        "            }\n",
        "        ]\n",
        "\n",
        "        try:\n",
        "            response = model.invoke(\n",
        "               prompt+user_input\n",
        "            )\n",
        "            if hasattr (response, 'content'):\n",
        "                response_content = response.content\n",
        "            else:\n",
        "                response_content = response    \n",
        "            if 'negative' in response_content.strip().lower():\n",
        "                prediction='negative'\n",
        "            elif 'positive' in response_content.strip().lower():\n",
        "                prediction='positive'\n",
        "            else:\n",
        "                prediction ='unknown'\n",
        "            model_predictions.append(prediction)\n",
        "            ground_truths.append(example['sentiment'])\n",
        "            print(prediction, example['sentiment'])\n",
        "\n",
        "        except Exception as e:\n",
        "            print(e)\n",
        "            continue\n",
        "\n",
        "    micro_f1_score = f1_score(ground_truths, model_predictions, average=\"micro\")\n",
        "\n",
        "    return micro_f1_score"
      ]
    },
    {
      "cell_type": "markdown",
      "metadata": {
        "id": "s61rE4tMVHqt"
      },
      "source": [
        "Let us now use this function to do one evaluation of all the three prompts assembled so far, each time computing the Micro-F1 score."
      ]
    },
    {
      "cell_type": "code",
      "execution_count": 153,
      "metadata": {
        "colab": {
          "base_uri": "https://localhost:8080/"
        },
        "id": "9nguuhD5VEqA",
        "outputId": "244cfe49-2aad-4caa-a3b3-9e764d65d2db"
      },
      "outputs": [
        {
          "name": "stdout",
          "output_type": "stream",
          "text": [
            "positive positive\n",
            "negative negative\n",
            "negative negative\n",
            "negative negative\n",
            "negative negative\n",
            "negative negative\n",
            "negative negative\n",
            "positive positive\n",
            "negative negative\n",
            "negative negative\n",
            "negative negative\n",
            "positive positive\n",
            "negative negative\n",
            "positive positive\n",
            "positive positive\n",
            "positive positive\n",
            "negative negative\n",
            "positive positive\n",
            "negative negative\n",
            "positive positive\n"
          ]
        },
        {
          "data": {
            "text/plain": [
              "1.0"
            ]
          },
          "execution_count": 153,
          "metadata": {},
          "output_type": "execute_result"
        }
      ],
      "source": [
        "evaluate_prompt(zero_shot_prompt, gold_examples, user_message_template, llama_llm)"
      ]
    },
    {
      "cell_type": "code",
      "execution_count": 142,
      "metadata": {
        "colab": {
          "base_uri": "https://localhost:8080/"
        },
        "id": "sp7awSHZVSw2",
        "outputId": "15e29820-951d-4dbe-9a88-bfad908d6dde"
      },
      "outputs": [
        {
          "name": "stdout",
          "output_type": "stream",
          "text": [
            "positive positive\n",
            "negative negative\n",
            "negative negative\n",
            "negative negative\n",
            "negative negative\n",
            "negative negative\n",
            "negative negative\n",
            "positive positive\n",
            "negative negative\n",
            "negative negative\n",
            "negative negative\n",
            "positive positive\n",
            "negative negative\n",
            "positive positive\n",
            "positive positive\n",
            "positive positive\n",
            "negative negative\n",
            "positive positive\n",
            "negative negative\n",
            "positive positive\n"
          ]
        },
        {
          "data": {
            "text/plain": [
              "1.0"
            ]
          },
          "execution_count": 142,
          "metadata": {},
          "output_type": "execute_result"
        }
      ],
      "source": [
        "evaluate_prompt(few_shot_prompt, gold_examples, user_message_template)"
      ]
    },
    {
      "cell_type": "code",
      "execution_count": 143,
      "metadata": {
        "colab": {
          "base_uri": "https://localhost:8080/"
        },
        "id": "gIAZVe3KVZcQ",
        "outputId": "cee41fe0-aedf-4518-efa4-a053156b6dab"
      },
      "outputs": [
        {
          "name": "stdout",
          "output_type": "stream",
          "text": [
            "positive positive\n",
            "negative negative\n",
            "negative negative\n",
            "negative negative\n",
            "negative negative\n",
            "negative negative\n",
            "negative negative\n",
            "positive positive\n",
            "negative negative\n",
            "negative negative\n",
            "negative negative\n",
            "positive positive\n",
            "negative negative\n",
            "positive positive\n",
            "positive positive\n",
            "positive positive\n",
            "negative negative\n",
            "positive positive\n",
            "negative negative\n",
            "positive positive\n"
          ]
        },
        {
          "data": {
            "text/plain": [
              "1.0"
            ]
          },
          "execution_count": 143,
          "metadata": {},
          "output_type": "execute_result"
        }
      ],
      "source": [
        "evaluate_prompt(cot_few_shot_prompt, gold_examples, user_message_template)"
      ]
    },
    {
      "cell_type": "markdown",
      "metadata": {
        "id": "IUYn7f-LVzs-"
      },
      "source": [
        "However, this is just *one* choice of examples. We will need to run these evaluations with multiple choices of examples to get a sense of variability in F1 score for the few-shot prompt and the CoT prompt. As an example, let us run evaluations for the few-shot prompt and the CoT prompt 10 times."
      ]
    },
    {
      "cell_type": "code",
      "execution_count": 144,
      "metadata": {
        "id": "GTXUDXYy7dku"
      },
      "outputs": [],
      "source": [
        "num_eval_runs = 10"
      ]
    },
    {
      "cell_type": "code",
      "execution_count": 145,
      "metadata": {
        "id": "n6pQkocytqG_"
      },
      "outputs": [],
      "source": [
        "few_shot_performance, cot_few_shot_performance = [], []"
      ]
    },
    {
      "cell_type": "code",
      "execution_count": 147,
      "metadata": {
        "colab": {
          "base_uri": "https://localhost:8080/"
        },
        "id": "BdUaodX3tseE",
        "outputId": "346df43f-1f92-4ab9-ede5-96aa1ed598fa"
      },
      "outputs": [
        {
          "name": "stderr",
          "output_type": "stream",
          "text": [
            "  0%|          | 0/10 [00:00<?, ?it/s]"
          ]
        },
        {
          "name": "stdout",
          "output_type": "stream",
          "text": [
            "positive positive\n",
            "negative negative\n",
            "negative negative\n",
            "negative negative\n",
            "negative negative\n",
            "negative negative\n",
            "negative negative\n",
            "positive positive\n",
            "negative negative\n",
            "negative negative\n",
            "negative negative\n",
            "positive positive\n",
            "negative negative\n",
            "positive positive\n",
            "positive positive\n",
            "positive positive\n",
            "negative negative\n",
            "positive positive\n",
            "negative negative\n",
            "positive positive\n",
            "positive positive\n",
            "negative negative\n",
            "negative negative\n",
            "negative negative\n",
            "negative negative\n",
            "negative negative\n",
            "negative negative\n",
            "positive positive\n",
            "negative negative\n",
            "negative negative\n",
            "negative negative\n",
            "positive positive\n",
            "negative negative\n",
            "positive positive\n",
            "positive positive\n",
            "positive positive\n",
            "negative negative\n",
            "positive positive\n",
            "negative negative\n"
          ]
        },
        {
          "name": "stderr",
          "output_type": "stream",
          "text": [
            " 10%|█         | 1/10 [00:41<06:09, 41.06s/it]"
          ]
        },
        {
          "name": "stdout",
          "output_type": "stream",
          "text": [
            "positive positive\n",
            "positive positive\n",
            "negative negative\n",
            "negative negative\n",
            "negative negative\n",
            "negative negative\n",
            "negative negative\n",
            "negative negative\n",
            "positive positive\n",
            "negative negative\n",
            "negative negative\n",
            "negative negative\n",
            "positive positive\n",
            "negative negative\n",
            "positive positive\n",
            "positive positive\n",
            "positive positive\n",
            "negative negative\n",
            "positive positive\n",
            "negative negative\n",
            "positive positive\n",
            "positive positive\n",
            "negative negative\n",
            "negative negative\n",
            "negative negative\n",
            "negative negative\n",
            "negative negative\n",
            "negative negative\n",
            "positive positive\n",
            "negative negative\n",
            "negative negative\n",
            "negative negative\n",
            "positive positive\n",
            "negative negative\n",
            "positive positive\n",
            "positive positive\n",
            "positive positive\n",
            "negative negative\n",
            "positive positive\n",
            "negative negative\n"
          ]
        },
        {
          "name": "stderr",
          "output_type": "stream",
          "text": [
            " 20%|██        | 2/10 [01:24<05:41, 42.69s/it]"
          ]
        },
        {
          "name": "stdout",
          "output_type": "stream",
          "text": [
            "positive positive\n",
            "positive positive\n",
            "negative negative\n",
            "negative negative\n",
            "negative negative\n",
            "negative negative\n",
            "negative negative\n",
            "negative negative\n",
            "positive positive\n",
            "negative negative\n",
            "negative negative\n",
            "negative negative\n",
            "positive positive\n",
            "negative negative\n",
            "positive positive\n",
            "positive positive\n",
            "positive positive\n",
            "negative negative\n",
            "positive positive\n",
            "negative negative\n",
            "positive positive\n",
            "positive positive\n",
            "negative negative\n",
            "negative negative\n",
            "negative negative\n",
            "negative negative\n",
            "negative negative\n",
            "negative negative\n",
            "positive positive\n",
            "negative negative\n",
            "negative negative\n",
            "negative negative\n",
            "positive positive\n",
            "negative negative\n",
            "positive positive\n",
            "positive positive\n",
            "positive positive\n",
            "negative negative\n",
            "positive positive\n",
            "negative negative\n"
          ]
        },
        {
          "name": "stderr",
          "output_type": "stream",
          "text": [
            " 30%|███       | 3/10 [02:08<05:00, 42.99s/it]"
          ]
        },
        {
          "name": "stdout",
          "output_type": "stream",
          "text": [
            "positive positive\n",
            "positive positive\n",
            "negative negative\n",
            "negative negative\n",
            "negative negative\n",
            "negative negative\n",
            "negative negative\n",
            "negative negative\n",
            "positive positive\n",
            "negative negative\n",
            "negative negative\n",
            "negative negative\n",
            "positive positive\n",
            "negative negative\n",
            "positive positive\n",
            "positive positive\n",
            "positive positive\n",
            "negative negative\n",
            "positive positive\n",
            "negative negative\n",
            "positive positive\n",
            "positive positive\n",
            "negative negative\n",
            "negative negative\n",
            "negative negative\n",
            "negative negative\n",
            "negative negative\n",
            "negative negative\n",
            "positive positive\n",
            "negative negative\n",
            "negative negative\n",
            "negative negative\n",
            "positive positive\n",
            "negative negative\n",
            "positive positive\n",
            "positive positive\n",
            "positive positive\n",
            "negative negative\n",
            "positive positive\n",
            "negative negative\n"
          ]
        },
        {
          "name": "stderr",
          "output_type": "stream",
          "text": [
            " 40%|████      | 4/10 [02:50<04:16, 42.81s/it]"
          ]
        },
        {
          "name": "stdout",
          "output_type": "stream",
          "text": [
            "positive positive\n",
            "positive positive\n",
            "negative negative\n",
            "negative negative\n",
            "negative negative\n",
            "negative negative\n",
            "negative negative\n",
            "negative negative\n",
            "positive positive\n",
            "negative negative\n",
            "negative negative\n",
            "negative negative\n",
            "positive positive\n",
            "negative negative\n",
            "positive positive\n",
            "positive positive\n",
            "positive positive\n",
            "negative negative\n",
            "positive positive\n",
            "negative negative\n",
            "positive positive\n",
            "positive positive\n",
            "negative negative\n",
            "negative negative\n",
            "negative negative\n",
            "negative negative\n",
            "negative negative\n",
            "negative negative\n",
            "positive positive\n",
            "negative negative\n",
            "negative negative\n",
            "negative negative\n",
            "positive positive\n",
            "negative negative\n",
            "positive positive\n",
            "positive positive\n",
            "positive positive\n",
            "negative negative\n",
            "positive positive\n",
            "negative negative\n"
          ]
        },
        {
          "name": "stderr",
          "output_type": "stream",
          "text": [
            " 50%|█████     | 5/10 [03:37<03:40, 44.19s/it]"
          ]
        },
        {
          "name": "stdout",
          "output_type": "stream",
          "text": [
            "positive positive\n",
            "positive positive\n",
            "negative negative\n",
            "negative negative\n",
            "negative negative\n",
            "negative negative\n",
            "negative negative\n",
            "negative negative\n",
            "positive positive\n",
            "negative negative\n",
            "negative negative\n",
            "negative negative\n",
            "positive positive\n",
            "negative negative\n",
            "positive positive\n",
            "positive positive\n",
            "positive positive\n",
            "negative negative\n",
            "positive positive\n",
            "negative negative\n",
            "positive positive\n",
            "positive positive\n",
            "negative negative\n",
            "negative negative\n",
            "negative negative\n",
            "negative negative\n",
            "negative negative\n",
            "negative negative\n",
            "positive positive\n",
            "negative negative\n",
            "negative negative\n",
            "negative negative\n",
            "positive positive\n",
            "negative negative\n",
            "positive positive\n",
            "positive positive\n",
            "positive positive\n",
            "negative negative\n",
            "positive positive\n",
            "negative negative\n"
          ]
        },
        {
          "name": "stderr",
          "output_type": "stream",
          "text": [
            " 60%|██████    | 6/10 [04:24<03:00, 45.09s/it]"
          ]
        },
        {
          "name": "stdout",
          "output_type": "stream",
          "text": [
            "positive positive\n",
            "positive positive\n",
            "negative negative\n",
            "negative negative\n",
            "negative negative\n",
            "negative negative\n",
            "negative negative\n",
            "negative negative\n",
            "positive positive\n",
            "negative negative\n",
            "negative negative\n",
            "negative negative\n",
            "positive positive\n",
            "negative negative\n",
            "positive positive\n",
            "positive positive\n",
            "positive positive\n",
            "negative negative\n",
            "positive positive\n",
            "negative negative\n",
            "positive positive\n",
            "positive positive\n",
            "negative negative\n",
            "negative negative\n",
            "negative negative\n",
            "negative negative\n",
            "negative negative\n",
            "negative negative\n",
            "positive positive\n",
            "negative negative\n",
            "negative negative\n",
            "negative negative\n",
            "positive positive\n",
            "negative negative\n",
            "positive positive\n",
            "positive positive\n",
            "positive positive\n",
            "negative negative\n",
            "positive positive\n",
            "negative negative\n"
          ]
        },
        {
          "name": "stderr",
          "output_type": "stream",
          "text": [
            " 70%|███████   | 7/10 [05:05<02:11, 43.69s/it]"
          ]
        },
        {
          "name": "stdout",
          "output_type": "stream",
          "text": [
            "positive positive\n",
            "positive positive\n",
            "negative negative\n",
            "negative negative\n",
            "negative negative\n",
            "negative negative\n",
            "negative negative\n",
            "negative negative\n",
            "positive positive\n",
            "negative negative\n",
            "negative negative\n",
            "negative negative\n",
            "positive positive\n",
            "negative negative\n",
            "positive positive\n",
            "positive positive\n",
            "positive positive\n",
            "negative negative\n",
            "positive positive\n",
            "negative negative\n",
            "positive positive\n",
            "positive positive\n",
            "negative negative\n",
            "negative negative\n",
            "negative negative\n",
            "negative negative\n",
            "negative negative\n",
            "negative negative\n",
            "positive positive\n",
            "negative negative\n",
            "negative negative\n",
            "negative negative\n",
            "positive positive\n",
            "negative negative\n",
            "positive positive\n",
            "positive positive\n",
            "positive positive\n",
            "negative negative\n",
            "positive positive\n",
            "negative negative\n"
          ]
        },
        {
          "name": "stderr",
          "output_type": "stream",
          "text": [
            " 80%|████████  | 8/10 [05:49<01:27, 43.96s/it]"
          ]
        },
        {
          "name": "stdout",
          "output_type": "stream",
          "text": [
            "positive positive\n",
            "positive positive\n",
            "negative negative\n",
            "negative negative\n",
            "negative negative\n",
            "negative negative\n",
            "negative negative\n",
            "negative negative\n",
            "positive positive\n",
            "negative negative\n",
            "negative negative\n",
            "negative negative\n",
            "positive positive\n",
            "negative negative\n",
            "positive positive\n",
            "positive positive\n",
            "positive positive\n",
            "negative negative\n",
            "positive positive\n",
            "negative negative\n",
            "positive positive\n",
            "positive positive\n",
            "negative negative\n",
            "negative negative\n",
            "negative negative\n",
            "negative negative\n",
            "negative negative\n",
            "negative negative\n",
            "positive positive\n",
            "negative negative\n",
            "negative negative\n",
            "negative negative\n",
            "positive positive\n",
            "negative negative\n",
            "positive positive\n",
            "positive positive\n",
            "positive positive\n",
            "negative negative\n",
            "positive positive\n",
            "negative negative\n"
          ]
        },
        {
          "name": "stderr",
          "output_type": "stream",
          "text": [
            " 90%|█████████ | 9/10 [06:45<00:47, 47.59s/it]"
          ]
        },
        {
          "name": "stdout",
          "output_type": "stream",
          "text": [
            "positive positive\n",
            "positive positive\n",
            "negative negative\n",
            "negative negative\n",
            "negative negative\n",
            "negative negative\n",
            "negative negative\n",
            "negative negative\n",
            "positive positive\n",
            "negative negative\n",
            "negative negative\n",
            "negative negative\n",
            "positive positive\n",
            "negative negative\n",
            "positive positive\n",
            "positive positive\n",
            "positive positive\n",
            "negative negative\n",
            "positive positive\n",
            "negative negative\n",
            "positive positive\n",
            "positive positive\n",
            "negative negative\n",
            "negative negative\n",
            "negative negative\n",
            "negative negative\n",
            "negative negative\n",
            "negative negative\n",
            "positive positive\n",
            "negative negative\n",
            "negative negative\n",
            "negative negative\n",
            "positive positive\n",
            "negative negative\n",
            "positive positive\n",
            "positive positive\n",
            "positive positive\n",
            "negative negative\n",
            "positive positive\n",
            "negative negative\n"
          ]
        },
        {
          "name": "stderr",
          "output_type": "stream",
          "text": [
            "100%|██████████| 10/10 [07:32<00:00, 45.23s/it]"
          ]
        },
        {
          "name": "stdout",
          "output_type": "stream",
          "text": [
            "positive positive\n"
          ]
        },
        {
          "name": "stderr",
          "output_type": "stream",
          "text": [
            "\n"
          ]
        }
      ],
      "source": [
        "for _ in tqdm(range(num_eval_runs)):\n",
        "\n",
        "    # For each run create a new sample of examples\n",
        "    examples = create_examples(examples_df)\n",
        "\n",
        "    # Assemble the few shot prompt with these examples\n",
        "    few_shot_prompt = create_prompt(few_shot_system_message, examples, user_message_template)\n",
        "    cot_few_shot_prompt = create_prompt(cot_system_message, examples, user_message_template)\n",
        "\n",
        "    # Evaluate prompt accuracy on gold examples\n",
        "    few_shot_micro_f1 = evaluate_prompt(few_shot_prompt, gold_examples, user_message_template)\n",
        "    cot_few_shot_micro_f1 = evaluate_prompt(cot_few_shot_prompt, gold_examples, user_message_template)\n",
        "\n",
        "    few_shot_performance.append(few_shot_micro_f1)\n",
        "    cot_few_shot_performance.append(cot_few_shot_micro_f1)"
      ]
    },
    {
      "cell_type": "code",
      "execution_count": 148,
      "metadata": {
        "colab": {
          "base_uri": "https://localhost:8080/"
        },
        "id": "ZikcR8oGrWls",
        "outputId": "0d4884a8-5c8d-42a0-898d-a4c5ab5ad2cb"
      },
      "outputs": [
        {
          "data": {
            "text/plain": [
              "(1.0, 0.0)"
            ]
          },
          "execution_count": 148,
          "metadata": {},
          "output_type": "execute_result"
        }
      ],
      "source": [
        "np.array(few_shot_performance).mean(), np.array(few_shot_performance).std()"
      ]
    },
    {
      "cell_type": "code",
      "execution_count": 149,
      "metadata": {
        "colab": {
          "base_uri": "https://localhost:8080/"
        },
        "id": "D-GYUYGkuQY7",
        "outputId": "71a0e658-c20d-4b78-c8d5-1affb1712147"
      },
      "outputs": [
        {
          "data": {
            "text/plain": [
              "(1.0, 0.0)"
            ]
          },
          "execution_count": 149,
          "metadata": {},
          "output_type": "execute_result"
        }
      ],
      "source": [
        "np.array(cot_few_shot_performance).mean(), np.array(cot_few_shot_performance).std()"
      ]
    }
  ],
  "metadata": {
    "colab": {
      "provenance": []
    },
    "kernelspec": {
      "display_name": "genai",
      "language": "python",
      "name": "python3"
    },
    "language_info": {
      "codemirror_mode": {
        "name": "ipython",
        "version": 3
      },
      "file_extension": ".py",
      "mimetype": "text/x-python",
      "name": "python",
      "nbconvert_exporter": "python",
      "pygments_lexer": "ipython3",
      "version": "3.10.10"
    },
    "orig_nbformat": 4
  },
  "nbformat": 4,
  "nbformat_minor": 0
}
